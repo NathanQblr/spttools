{
 "cells": [
  {
   "cell_type": "code",
   "execution_count": 1,
   "metadata": {},
   "outputs": [],
   "source": [
    "import pandas as pd"
   ]
  },
  {
   "cell_type": "code",
   "execution_count": 3,
   "metadata": {},
   "outputs": [
    {
     "name": "stdout",
     "output_type": "stream",
     "text": [
      "               x          y     f   traj        dr2          cl         D  \\\n",
      "0      25.041273  12.308721   130    401  310.43250  1269.58760  4.351426   \n",
      "1      27.078086  14.548595   131    401  442.87222  1380.99990  4.351426   \n",
      "2      26.846859  12.909950   132    401  584.74468  1112.75230  4.351426   \n",
      "3      27.763676  13.064893   133    401  594.05805  1162.12920  0.919326   \n",
      "4      28.043049  12.834198   134    401  504.03734  1026.32200  0.914003   \n",
      "...          ...        ...   ...    ...        ...         ...       ...   \n",
      "91618  61.867910  66.225048  2370  44646  206.22091   778.25052  0.850168   \n",
      "91619  61.229900  66.530386  2371  44646  216.68908   799.56961  0.850168   \n",
      "91620  62.116337  67.114792  2381  45246  184.19877   841.43879  4.351426   \n",
      "91621  62.301487  67.055902  2382  45246  226.73431   901.18742  4.351426   \n",
      "91622  61.467661  67.247014  2383  45246  241.69646   789.50632  4.351426   \n",
      "\n",
      "               dt  \n",
      "0       62.086501  \n",
      "1       62.086501  \n",
      "2       62.086501  \n",
      "3      116.270850  \n",
      "4      104.334840  \n",
      "...           ...  \n",
      "91618   34.195498  \n",
      "91619   34.195498  \n",
      "91620   36.839754  \n",
      "91621   36.839754  \n",
      "91622   36.839754  \n",
      "\n",
      "[91623 rows x 8 columns]\n"
     ]
    }
   ],
   "source": [
    "NAME_F='../dat/SPT:RPB1_ABC4M_format.txt'#'../dat/SPT:MB_0_format.txt'#'../data/0002.rpt_tracked.txt'\n",
    "COL_NAMES=['x', 'y', 'f','traj', 'dr2', 'cl', 'D', 'dt']#['x', 'y', 'traj','f', 'dr2','cl','D','dt']\n",
    "points = pd.read_csv(NAME_F,  header=0).iloc[:100000,:]\n",
    "print(points)"
   ]
  }
 ],
 "metadata": {
  "kernelspec": {
   "display_name": "venvSPT",
   "language": "python",
   "name": "python3"
  },
  "language_info": {
   "codemirror_mode": {
    "name": "ipython",
    "version": 3
   },
   "file_extension": ".py",
   "mimetype": "text/x-python",
   "name": "python",
   "nbconvert_exporter": "python",
   "pygments_lexer": "ipython3",
   "version": "3.9.9"
  }
 },
 "nbformat": 4,
 "nbformat_minor": 2
}
